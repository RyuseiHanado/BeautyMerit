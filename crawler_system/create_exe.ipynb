{
 "cells": [
  {
   "cell_type": "code",
   "execution_count": null,
   "metadata": {},
   "outputs": [],
   "source": [
    "!jupyter nbconvert --to script ../notebooks/main_Point_Sales.ipynb --output-dir=../scripts"
   ]
  },
  {
   "cell_type": "code",
   "execution_count": 2,
   "metadata": {},
   "outputs": [],
   "source": [
    "!pyinstaller -y \\\n",
    "    --distpath ../exe \\\n",
    "    ../scripts/main_Point_Sales.py \\\n",
    "    --onefile --clean\n"
   ]
  }
 ],
 "metadata": {
  "kernelspec": {
   "display_name": "Python 3.9.13 ('Twitter_affiliate')",
   "language": "python",
   "name": "python3"
  },
  "language_info": {
   "codemirror_mode": {
    "name": "ipython",
    "version": 3
   },
   "file_extension": ".py",
   "mimetype": "text/x-python",
   "name": "python",
   "nbconvert_exporter": "python",
   "pygments_lexer": "ipython3",
   "version": "3.9.16"
  },
  "orig_nbformat": 4,
  "vscode": {
   "interpreter": {
    "hash": "c5ced06b453b606ac2ae483e1a63fe52a911704498fb4696114ee4e80c69bfee"
   }
  }
 },
 "nbformat": 4,
 "nbformat_minor": 2
}
