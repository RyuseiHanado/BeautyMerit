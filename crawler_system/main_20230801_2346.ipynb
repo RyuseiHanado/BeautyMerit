{
 "cells": [
  {
   "cell_type": "code",
   "execution_count": null,
   "metadata": {},
   "outputs": [],
   "source": [
    "# ログイン処理\n",
    "# https://chat.openai.com/c/f224d159-3a13-46d2-9470-0f1a0f164ab4\n",
    "\n",
    "# selenium\n",
    "# https://chat.openai.com/c/406ac40b-addf-4e35-b04d-49c38d8aa6c3"
   ]
  },
  {
   "cell_type": "code",
   "execution_count": null,
   "metadata": {},
   "outputs": [],
   "source": [
    "# coding: utf-8\n",
    "\n",
    "# 標準ライブラリのインポート\n",
    "import sys\n",
    "import logging\n",
    "\n",
    "from datetime import datetime, timedelta\n",
    "from dateutil.relativedelta import relativedelta\n",
    "\n",
    "from selenium import webdriver\n",
    "from selenium.webdriver.common.by import By\n",
    "from selenium.webdriver.support.ui import WebDriverWait\n",
    "from selenium.webdriver.support import expected_conditions as EC\n",
    "from bs4 import BeautifulSoup\n",
    "from datetime import datetime\n",
    "\n",
    "# ローカルモジュールのインポート\n",
    "sys.path.append('../scripts')\n",
    "import func_common\n",
    "import func_selenium\n",
    "import func_BM\n"
   ]
  },
  {
   "cell_type": "code",
   "execution_count": null,
   "metadata": {},
   "outputs": [],
   "source": [
    "# atodekesu\n",
    "# ヘルパー関数\n",
    "def wait_for_element(driver, by, value, timeout=10):\n",
    "    return WebDriverWait(driver, timeout).until(\n",
    "        EC.presence_of_element_located((by, value))\n",
    "    )\n",
    "\n"
   ]
  },
  {
   "cell_type": "code",
   "execution_count": null,
   "metadata": {},
   "outputs": [],
   "source": [
    "# def main():\n",
    "#     func_common.setup_logging()\n",
    "\n",
    "#     config_file_path = '../config/config.ini'\n",
    "#     config_values = func_common.read_config_file(config_file_path)\n",
    "\n",
    "\n"
   ]
  },
  {
   "cell_type": "code",
   "execution_count": null,
   "metadata": {},
   "outputs": [],
   "source": [
    "# if __name__ == \"__main__\":\n",
    "#     try:\n",
    "#         main()\n",
    "#     except Exception as e:\n",
    "#         logging.info(f\"エラーが発生しました: {e}\")\n",
    "#     finally:\n",
    "#         input(\"何かキーを押して終了してください...\")"
   ]
  },
  {
   "cell_type": "code",
   "execution_count": null,
   "metadata": {},
   "outputs": [],
   "source": [
    "# コード\n",
    "func_common.setup_logging()\n",
    "\n",
    "config_file_path = '../config/config.ini'  # config.iniファイルのパスを適切に設定してください\n",
    "config_values = func_common.read_config_file(config_file_path)\n",
    "account_keys = ['Beauty_Merit_Account1', 'Beauty_Merit_Account2', 'Beauty_Merit_Account3']\n",
    "gdrive_config = config_values['Gdrive']\n",
    "\n",
    "# ドライバー起動\n",
    "base_url = \"https://b-merit.jp/groupmanage/login/?redirect=1\"\n",
    "\n",
    "# ログイン処理\n",
    "for account_key in account_keys:\n",
    "    bm_config = config_values[account_key]\n",
    "    login_id = bm_config['login_id']\n",
    "    password = bm_config['password']\n",
    "\n",
    "    # ドライバー起動\n",
    "    driver = func_selenium.set_driver()\n",
    "    driver.get(base_url)\n",
    "    logging.info(f\"アカウント名：{login_id} でログインします\")\n",
    "    func_BM.perform_login(driver, login_id, password)\n",
    "\n",
    "    # ログアウトや他の処理を行う場合は、ここに記述します。\n",
    "    html_source = driver.page_source\n",
    "    shop_data = func_BM.extract_shop_data(html_source)\n",
    "\n",
    "    # 取得したデータが空かどうかチェック\n",
    "    if len(shop_data) == 0:\n",
    "        logging.error(\"データの取得に失敗しました。\")\n",
    "        sys.exit(1)\n",
    "    else:\n",
    "        logging.info(f\"正常にデータを取得しました。取得件数: {len(shop_data)}\")\n",
    "\n",
    "    # 結果の出力\n",
    "    for shop in shop_data:\n",
    "        logging.info(f\"{shop['shop_name']}, {shop['url']}\")\n",
    "\n",
    "    # 各アカウントの処理が終わったら、ブラウザを閉じます。\n",
    "    # driver.quit()\n",
    "\n",
    "    break # 一つのアカウントしか用意していないので\n"
   ]
  },
  {
   "cell_type": "code",
   "execution_count": 9,
   "metadata": {},
   "outputs": [
    {
     "ename": "WebDriverException",
     "evalue": "Message: disconnected: not connected to DevTools\n  (failed to check if window was closed: disconnected: not connected to DevTools)\n  (Session info: chrome=115.0.5790.114)\nStacktrace:\n0   chromedriver                        0x000000010f95b088 chromedriver + 4927624\n1   chromedriver                        0x000000010f952543 chromedriver + 4891971\n2   chromedriver                        0x000000010f512136 chromedriver + 434486\n3   chromedriver                        0x000000010f4f8bc1 chromedriver + 330689\n4   chromedriver                        0x000000010f4f8923 chromedriver + 330019\n5   chromedriver                        0x000000010f513d82 chromedriver + 441730\n6   chromedriver                        0x000000010f59403e chromedriver + 966718\n7   chromedriver                        0x000000010f5798b3 chromedriver + 858291\n8   chromedriver                        0x000000010f54784f chromedriver + 653391\n9   chromedriver                        0x000000010f548bae chromedriver + 658350\n10  chromedriver                        0x000000010f916f5d chromedriver + 4648797\n11  chromedriver                        0x000000010f91bddf chromedriver + 4668895\n12  chromedriver                        0x000000010f92284f chromedriver + 4696143\n13  chromedriver                        0x000000010f91cd0a chromedriver + 4672778\n14  chromedriver                        0x000000010f8ef70c chromedriver + 4486924\n15  chromedriver                        0x000000010f93a068 chromedriver + 4792424\n16  chromedriver                        0x000000010f93a1e7 chromedriver + 4792807\n17  chromedriver                        0x000000010f94b30f chromedriver + 4862735\n18  libsystem_pthread.dylib             0x00007fff72ef2109 _pthread_start + 148\n19  libsystem_pthread.dylib             0x00007fff72eedb8b thread_start + 15\n",
     "output_type": "error",
     "traceback": [
      "\u001b[0;31m---------------------------------------------------------------------------\u001b[0m",
      "\u001b[0;31mWebDriverException\u001b[0m                        Traceback (most recent call last)",
      "Cell \u001b[0;32mIn[9], line 13\u001b[0m\n\u001b[1;32m     11\u001b[0m yesterday \u001b[39m=\u001b[39m today \u001b[39m-\u001b[39m timedelta(days\u001b[39m=\u001b[39m\u001b[39m1\u001b[39m)\n\u001b[1;32m     12\u001b[0m start_date, end_date \u001b[39m=\u001b[39m func_BM\u001b[39m.\u001b[39mget_month_start_and_end_based_on_date(yesterday)\n\u001b[0;32m---> 13\u001b[0m driver\u001b[39m.\u001b[39;49mget(\u001b[39mf\u001b[39;49m\u001b[39m'\u001b[39;49m\u001b[39mhttps://b-merit.jp/manage/account/salesclose/?action=list&start_date=\u001b[39;49m\u001b[39m{\u001b[39;49;00mstart_date\u001b[39m}\u001b[39;49;00m\u001b[39m&end_date=\u001b[39;49m\u001b[39m{\u001b[39;49;00mend_date\u001b[39m}\u001b[39;49;00m\u001b[39m'\u001b[39;49m)\n\u001b[1;32m     15\u001b[0m \u001b[39m# レジ締め日一覧取得\u001b[39;00m\n\u001b[1;32m     16\u001b[0m logging\u001b[39m.\u001b[39minfo(\u001b[39m'\u001b[39m\u001b[39mレジ締め日からポイント情報を取得します。\u001b[39m\u001b[39m'\u001b[39m)\n",
      "File \u001b[0;32m~/opt/anaconda3/envs/kh_plus/lib/python3.9/site-packages/selenium/webdriver/remote/webdriver.py:449\u001b[0m, in \u001b[0;36mWebDriver.get\u001b[0;34m(self, url)\u001b[0m\n\u001b[1;32m    447\u001b[0m \u001b[39mdef\u001b[39;00m \u001b[39mget\u001b[39m(\u001b[39mself\u001b[39m, url: \u001b[39mstr\u001b[39m) \u001b[39m-\u001b[39m\u001b[39m>\u001b[39m \u001b[39mNone\u001b[39;00m:\n\u001b[1;32m    448\u001b[0m \u001b[39m    \u001b[39m\u001b[39m\"\"\"Loads a web page in the current browser session.\"\"\"\u001b[39;00m\n\u001b[0;32m--> 449\u001b[0m     \u001b[39mself\u001b[39;49m\u001b[39m.\u001b[39;49mexecute(Command\u001b[39m.\u001b[39;49mGET, {\u001b[39m\"\u001b[39;49m\u001b[39murl\u001b[39;49m\u001b[39m\"\u001b[39;49m: url})\n",
      "File \u001b[0;32m~/opt/anaconda3/envs/kh_plus/lib/python3.9/site-packages/selenium/webdriver/remote/webdriver.py:440\u001b[0m, in \u001b[0;36mWebDriver.execute\u001b[0;34m(self, driver_command, params)\u001b[0m\n\u001b[1;32m    438\u001b[0m response \u001b[39m=\u001b[39m \u001b[39mself\u001b[39m\u001b[39m.\u001b[39mcommand_executor\u001b[39m.\u001b[39mexecute(driver_command, params)\n\u001b[1;32m    439\u001b[0m \u001b[39mif\u001b[39;00m response:\n\u001b[0;32m--> 440\u001b[0m     \u001b[39mself\u001b[39;49m\u001b[39m.\u001b[39;49merror_handler\u001b[39m.\u001b[39;49mcheck_response(response)\n\u001b[1;32m    441\u001b[0m     response[\u001b[39m\"\u001b[39m\u001b[39mvalue\u001b[39m\u001b[39m\"\u001b[39m] \u001b[39m=\u001b[39m \u001b[39mself\u001b[39m\u001b[39m.\u001b[39m_unwrap_value(response\u001b[39m.\u001b[39mget(\u001b[39m\"\u001b[39m\u001b[39mvalue\u001b[39m\u001b[39m\"\u001b[39m, \u001b[39mNone\u001b[39;00m))\n\u001b[1;32m    442\u001b[0m     \u001b[39mreturn\u001b[39;00m response\n",
      "File \u001b[0;32m~/opt/anaconda3/envs/kh_plus/lib/python3.9/site-packages/selenium/webdriver/remote/errorhandler.py:245\u001b[0m, in \u001b[0;36mErrorHandler.check_response\u001b[0;34m(self, response)\u001b[0m\n\u001b[1;32m    243\u001b[0m         alert_text \u001b[39m=\u001b[39m value[\u001b[39m\"\u001b[39m\u001b[39malert\u001b[39m\u001b[39m\"\u001b[39m]\u001b[39m.\u001b[39mget(\u001b[39m\"\u001b[39m\u001b[39mtext\u001b[39m\u001b[39m\"\u001b[39m)\n\u001b[1;32m    244\u001b[0m     \u001b[39mraise\u001b[39;00m exception_class(message, screen, stacktrace, alert_text)  \u001b[39m# type: ignore[call-arg]  # mypy is not smart enough here\u001b[39;00m\n\u001b[0;32m--> 245\u001b[0m \u001b[39mraise\u001b[39;00m exception_class(message, screen, stacktrace)\n",
      "\u001b[0;31mWebDriverException\u001b[0m: Message: disconnected: not connected to DevTools\n  (failed to check if window was closed: disconnected: not connected to DevTools)\n  (Session info: chrome=115.0.5790.114)\nStacktrace:\n0   chromedriver                        0x000000010f95b088 chromedriver + 4927624\n1   chromedriver                        0x000000010f952543 chromedriver + 4891971\n2   chromedriver                        0x000000010f512136 chromedriver + 434486\n3   chromedriver                        0x000000010f4f8bc1 chromedriver + 330689\n4   chromedriver                        0x000000010f4f8923 chromedriver + 330019\n5   chromedriver                        0x000000010f513d82 chromedriver + 441730\n6   chromedriver                        0x000000010f59403e chromedriver + 966718\n7   chromedriver                        0x000000010f5798b3 chromedriver + 858291\n8   chromedriver                        0x000000010f54784f chromedriver + 653391\n9   chromedriver                        0x000000010f548bae chromedriver + 658350\n10  chromedriver                        0x000000010f916f5d chromedriver + 4648797\n11  chromedriver                        0x000000010f91bddf chromedriver + 4668895\n12  chromedriver                        0x000000010f92284f chromedriver + 4696143\n13  chromedriver                        0x000000010f91cd0a chromedriver + 4672778\n14  chromedriver                        0x000000010f8ef70c chromedriver + 4486924\n15  chromedriver                        0x000000010f93a068 chromedriver + 4792424\n16  chromedriver                        0x000000010f93a1e7 chromedriver + 4792807\n17  chromedriver                        0x000000010f94b30f chromedriver + 4862735\n18  libsystem_pthread.dylib             0x00007fff72ef2109 _pthread_start + 148\n19  libsystem_pthread.dylib             0x00007fff72eedb8b thread_start + 15\n"
     ]
    }
   ],
   "source": [
    "# ポイント利用情報用の配列\n",
    "point_tables = []\n",
    "\n",
    "# 売上データ用配列\n",
    "\n",
    "    # 店舗にログイン\n",
    "aa\n",
    "for shop in shop_data:\n",
    "    driver.get(shop['url'])\n",
    "    # レジ締め一覧に移動\n",
    "    today = datetime.now()\n",
    "    yesterday = today - timedelta(days=1)\n",
    "    start_date, end_date = func_BM.get_month_start_and_end_based_on_date(yesterday)\n",
    "    driver.get(f'https://b-merit.jp/manage/account/salesclose/?action=list&start_date={start_date}&end_date={end_date}')\n",
    "\n",
    "    # レジ締め日一覧取得\n",
    "    html_content = driver.page_source\n",
    "    shop_name = shop['shop_name']  # 店舗名を取得\n",
    "    logging.info(shop_name)\n",
    "    point_table = func_BM.get_point_table(shop_name, html_content, yesterday)\n",
    "    for info in point_table:\n",
    "        logging.info(f\"店舗名: {info['shop_name']}, レジ締め日: {info['close_date']}, レジ締め対象時間: {info['start_time']}-{info['end_time']}, 関連ID: {info['related_id']}\")\n",
    "    if point_table: point_tables.append(point_table)\n",
    "    logging.info('----------------------------------------------------------------')\n",
    "    \n",
    "        # ポイント利用情報を取得\n",
    "        \n",
    "        # 配列に格納（店舗情報含める）\n",
    "    \n",
    "    # 売上データ取得\n",
    "    \n",
    "\n",
    "# ポイント利用情報をｃｓｖに吐き出す\n",
    "\n",
    "# 売上データをｃｓｖに吐き出す\n"
   ]
  },
  {
   "cell_type": "code",
   "execution_count": null,
   "metadata": {},
   "outputs": [],
   "source": [
    "point_tables"
   ]
  },
  {
   "cell_type": "code",
   "execution_count": null,
   "metadata": {},
   "outputs": [],
   "source": [
    "break"
   ]
  },
  {
   "cell_type": "code",
   "execution_count": null,
   "metadata": {},
   "outputs": [],
   "source": [
    "# レジ締め一覧データが存在しないケース\n",
    "driver.get(shop_data[-1][1])"
   ]
  },
  {
   "cell_type": "code",
   "execution_count": null,
   "metadata": {},
   "outputs": [],
   "source": [
    "html_content = driver.page_source\n",
    "shop_name = shop['shop_name']  # 店舗名を取得\n",
    "close_time_info = func_BM.get_close_time_info(shop_name, html_content, yesterday)\n",
    "for info in close_time_info:\n",
    "    print(f\"店舗名: {info['shop_name']}, レジ締め日: {info['close_date']}, レジ締め対象時間: {info['start_time']}-{info['end_time']}, 関連ID: {info['related_id']}\")\n",
    "print('----------------------------------------------------------------')\n"
   ]
  },
  {
   "cell_type": "code",
   "execution_count": null,
   "metadata": {},
   "outputs": [],
   "source": [
    "arr = [] \n",
    "temp = []\n"
   ]
  },
  {
   "cell_type": "code",
   "execution_count": null,
   "metadata": {},
   "outputs": [],
   "source": [
    "\n",
    "arr.append(close_time_info)\n",
    "arr"
   ]
  },
  {
   "cell_type": "code",
   "execution_count": null,
   "metadata": {},
   "outputs": [],
   "source": [
    "# --- ループ対応必要\n",
    "# レジ締め一覧　レジ締め日\n",
    "driver.get(f\"https://b-merit.jp/manage/account/salesclose/?action=detail&id={close_time_info[0]['related_id']}\")"
   ]
  },
  {
   "cell_type": "code",
   "execution_count": null,
   "metadata": {},
   "outputs": [],
   "source": [
    "# ポイント利用情報を取得\n",
    "html_content = driver.page_source\n",
    "func_BM.extract_point_table_data(html_content)"
   ]
  },
  {
   "cell_type": "code",
   "execution_count": null,
   "metadata": {},
   "outputs": [],
   "source": [
    "break"
   ]
  },
  {
   "cell_type": "markdown",
   "metadata": {},
   "source": [
    "### TEST CODE"
   ]
  },
  {
   "cell_type": "code",
   "execution_count": null,
   "metadata": {},
   "outputs": [],
   "source": [
    "# テストコード\n",
    "from datetime import datetime, timedelta\n",
    "\n",
    "# テスト対象のHTMLコンテンツを取得します。\n",
    "html_content = driver.page_source\n",
    "\n",
    "# 本日とその前後3日間のレジ締め情報を取得します。\n",
    "test_dates = [datetime.today() + timedelta(days=i) for i in range(-3, 4)]\n",
    "for test_date in test_dates:\n",
    "    close_time_info = get_close_time_info(html_content, test_date)\n",
    "    for info in close_time_info:\n",
    "        print(f\"レジ締め日: {info['close_date']}, レジ締め対象時間: {info['start_time']}-{info['end_time']}, 関連ID: {info['related_id']}\")\n"
   ]
  },
  {
   "cell_type": "code",
   "execution_count": null,
   "metadata": {},
   "outputs": [],
   "source": []
  }
 ],
 "metadata": {
  "kernelspec": {
   "display_name": "GoogleAPI",
   "language": "python",
   "name": "python3"
  },
  "language_info": {
   "codemirror_mode": {
    "name": "ipython",
    "version": 3
   },
   "file_extension": ".py",
   "mimetype": "text/x-python",
   "name": "python",
   "nbconvert_exporter": "python",
   "pygments_lexer": "ipython3",
   "version": "3.9.16"
  },
  "orig_nbformat": 4
 },
 "nbformat": 4,
 "nbformat_minor": 2
}
