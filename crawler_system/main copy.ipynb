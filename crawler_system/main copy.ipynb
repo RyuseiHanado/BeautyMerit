{
 "cells": [
  {
   "cell_type": "code",
   "execution_count": null,
   "metadata": {},
   "outputs": [],
   "source": [
    "# ログイン処理\n",
    "# https://chat.openai.com/c/f224d159-3a13-46d2-9470-0f1a0f164ab4\n",
    "\n",
    "# selenium\n",
    "# https://chat.openai.com/c/406ac40b-addf-4e35-b04d-49c38d8aa6c3"
   ]
  },
  {
   "cell_type": "code",
   "execution_count": 3,
   "metadata": {},
   "outputs": [],
   "source": [
    "# coding: utf-8\n",
    "\n",
    "# 標準ライブラリのインポート\n",
    "import sys\n",
    "import logging\n",
    "\n",
    "from datetime import datetime, timedelta\n",
    "from dateutil.relativedelta import relativedelta\n",
    "\n",
    "from selenium import webdriver\n",
    "from selenium.webdriver.common.by import By\n",
    "from selenium.webdriver.support.ui import WebDriverWait\n",
    "from selenium.webdriver.support import expected_conditions as EC\n",
    "from bs4 import BeautifulSoup\n",
    "from datetime import datetime\n",
    "\n",
    "# ローカルモジュールのインポート\n",
    "sys.path.append('../scripts')\n",
    "import func_common\n",
    "import func_selenium\n",
    "import func_BM\n"
   ]
  },
  {
   "cell_type": "code",
   "execution_count": 4,
   "metadata": {},
   "outputs": [],
   "source": [
    "# atodekesu\n",
    "# ヘルパー関数\n",
    "def wait_for_element(driver, by, value, timeout=10):\n",
    "    return WebDriverWait(driver, timeout).until(\n",
    "        EC.presence_of_element_located((by, value))\n",
    "    )\n",
    "\n"
   ]
  },
  {
   "cell_type": "code",
   "execution_count": 5,
   "metadata": {},
   "outputs": [],
   "source": [
    "# def main():\n",
    "#     func_common.setup_logging()\n",
    "\n",
    "#     config_file_path = '../config/config.ini'\n",
    "#     config_values = func_common.read_config_file(config_file_path)\n",
    "\n",
    "\n"
   ]
  },
  {
   "cell_type": "code",
   "execution_count": 6,
   "metadata": {},
   "outputs": [],
   "source": [
    "# if __name__ == \"__main__\":\n",
    "#     try:\n",
    "#         main()\n",
    "#     except Exception as e:\n",
    "#         logging.info(f\"エラーが発生しました: {e}\")\n",
    "#     finally:\n",
    "#         input(\"何かキーを押して終了してください...\")"
   ]
  },
  {
   "cell_type": "code",
   "execution_count": 7,
   "metadata": {},
   "outputs": [],
   "source": [
    "# コード\n",
    "# func_common.setup_logging()\n",
    "\n",
    "config_file_path = '../config/config.ini'  # config.iniファイルのパスを適切に設定してください\n",
    "config_values = func_common.read_config_file(config_file_path)\n",
    "account_keys = ['Beauty_Merit_Account1', 'Beauty_Merit_Account2', 'Beauty_Merit_Account3']\n",
    "gdrive_config = config_values['Gdrive']\n",
    "\n",
    "# ドライバー起動\n",
    "base_url = \"https://b-merit.jp/groupmanage/login/?redirect=1\"\n",
    "\n",
    "# ログイン処理\n",
    "for account_key in account_keys:\n",
    "    bm_config = config_values[account_key]\n",
    "    login_id = bm_config['login_id']\n",
    "    password = bm_config['password']\n",
    "\n",
    "    # ドライバー起動\n",
    "    driver = func_selenium.set_driver()\n",
    "    driver.get(base_url)\n",
    "    logging.info(f\"アカウント名：{login_id} でログインします\")\n",
    "    func_BM.perform_login(driver, login_id, password)\n",
    "\n",
    "    # ログアウトや他の処理を行う場合は、ここに記述します。\n",
    "    html_source = driver.page_source\n",
    "    shop_data = func_BM.extract_shop_data(html_source)\n",
    "\n",
    "    # 取得したデータが空かどうかチェック\n",
    "    if len(shop_data) == 0:\n",
    "        logging.error(\"データの取得に失敗しました。\")\n",
    "        sys.exit(1)\n",
    "    else:\n",
    "        logging.info(f\"正常にデータを取得しました。取得件数: {len(shop_data)}\")\n",
    "\n",
    "    # 結果の出力\n",
    "    for shop_name, url in shop_data:\n",
    "        logging.info(f\"{shop_name}, {url}\")\n",
    "\n",
    "    # 各アカウントの処理が終わったら、ブラウザを閉じます。\n",
    "    # driver.quit()\n",
    "\n",
    "    break # 一つのアカウントしか用意していないので\n"
   ]
  },
  {
   "cell_type": "code",
   "execution_count": 8,
   "metadata": {},
   "outputs": [],
   "source": [
    "driver.get(shop_data[0][1])"
   ]
  },
  {
   "cell_type": "code",
   "execution_count": 9,
   "metadata": {},
   "outputs": [],
   "source": [
    "# ポイント利用情報用の配列\n",
    "\n",
    "# 売上データ用配列\n",
    "\n",
    "# 店舗にログイン\n",
    "\n",
    "    # レジ締め一覧に移動\n",
    "    \n",
    "    # レジ締め日一覧取得\n",
    "\n",
    "        # ポイント利用情報を取得\n",
    "        \n",
    "        # 配列に格納（店舗情報含める）\n",
    "    \n",
    "    # 売上データ取得\n",
    "    \n",
    "\n",
    "# ポイント利用情報をｃｓｖに吐き出す\n",
    "\n",
    "# 売上データをｃｓｖに吐き出す\n"
   ]
  },
  {
   "cell_type": "code",
   "execution_count": 10,
   "metadata": {},
   "outputs": [],
   "source": [
    "# レジ締め一覧に移動\n",
    "today = datetime.now()\n",
    "# 前日を取得\n",
    "yesterday = today - timedelta(days=1)\n",
    "start_date, end_date = func_BM.get_month_start_and_end_based_on_date(yesterday)\n",
    "driver.get(f'https://b-merit.jp/manage/account/salesclose/?action=list&start_date={start_date}&end_date={end_date}')"
   ]
  },
  {
   "cell_type": "code",
   "execution_count": 11,
   "metadata": {},
   "outputs": [
    {
     "name": "stdout",
     "output_type": "stream",
     "text": [
      "レジ締め日: 2023-07-30, レジ締め対象時間: 2023-07-29 21:44-2023-07-30 22:12, 関連ID: 888479\n",
      "----------------------------------------------------------------\n"
     ]
    }
   ],
   "source": [
    "# get_close_time_infoに店舗名も追加する\n",
    "html_content = driver.page_source\n",
    "close_time_info = func_BM.get_close_time_info(html_content, yesterday)\n",
    "# for info in close_time_info:\n",
    "    # print(f\"レジ締め日: {info['close_date']}, レジ締め対象時間: {info['start_time']}-{info['end_time']}, 関連ID: {info['related_id']}\")\n",
    "print('----------------------------------------------------------------')"
   ]
  },
  {
   "cell_type": "code",
   "execution_count": null,
   "metadata": {},
   "outputs": [],
   "source": [
    "# --- ループ対応必要\n",
    "# レジ締め一覧　レジ締め日\n",
    "driver.get(f\"https://b-merit.jp/manage/account/salesclose/?action=detail&id={close_time_info[0]['related_id']}\")"
   ]
  },
  {
   "cell_type": "code",
   "execution_count": null,
   "metadata": {},
   "outputs": [],
   "source": [
    "# ポイント利用情報を取得\n",
    "html_content = driver.page_source\n",
    "func_BM.extract_table_data(html_content)"
   ]
  },
  {
   "cell_type": "code",
   "execution_count": null,
   "metadata": {},
   "outputs": [],
   "source": [
    "break"
   ]
  },
  {
   "cell_type": "markdown",
   "metadata": {},
   "source": [
    "### TEST CODE"
   ]
  },
  {
   "cell_type": "code",
   "execution_count": null,
   "metadata": {},
   "outputs": [],
   "source": [
    "# テストコード\n",
    "from datetime import datetime, timedelta\n",
    "\n",
    "# テスト対象のHTMLコンテンツを取得します。\n",
    "html_content = driver.page_source\n",
    "\n",
    "# 本日とその前後3日間のレジ締め情報を取得します。\n",
    "test_dates = [datetime.today() + timedelta(days=i) for i in range(-3, 4)]\n",
    "for test_date in test_dates:\n",
    "    close_time_info = get_close_time_info(html_content, test_date)\n",
    "    for info in close_time_info:\n",
    "        print(f\"レジ締め日: {info['close_date']}, レジ締め対象時間: {info['start_time']}-{info['end_time']}, 関連ID: {info['related_id']}\")\n"
   ]
  },
  {
   "cell_type": "code",
   "execution_count": null,
   "metadata": {},
   "outputs": [],
   "source": []
  }
 ],
 "metadata": {
  "kernelspec": {
   "display_name": "GoogleAPI",
   "language": "python",
   "name": "python3"
  },
  "language_info": {
   "codemirror_mode": {
    "name": "ipython",
    "version": 3
   },
   "file_extension": ".py",
   "mimetype": "text/x-python",
   "name": "python",
   "nbconvert_exporter": "python",
   "pygments_lexer": "ipython3",
   "version": "3.9.16"
  },
  "orig_nbformat": 4
 },
 "nbformat": 4,
 "nbformat_minor": 2
}
